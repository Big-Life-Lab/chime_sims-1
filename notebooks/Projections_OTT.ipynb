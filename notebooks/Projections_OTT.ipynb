{
 "cells": [
  {
   "cell_type": "markdown",
   "metadata": {},
   "source": [
    "# Projecting COVID-19 hospital use in Ottawa"
   ]
  },
  {
   "cell_type": "code",
   "execution_count": 1,
   "metadata": {},
   "outputs": [
    {
     "output_type": "stream",
     "name": "stdout",
     "text": "c:\\Users\\Rusty\\Documents\\work\\chime_sims\\chime_sims\n"
    }
   ],
   "source": [
    "cd .."
   ]
  },
  {
   "cell_type": "code",
   "execution_count": 2,
   "metadata": {},
   "outputs": [],
   "source": [
    "# Import functions and import simulated data\n",
    "\n",
    "import pandas as pd\n",
    "from os import getcwd, path, sys\n",
    "from _99_shared_functions import *\n",
    "import matplotlib.pyplot as plt\n",
    "from scipy import stats as sps\n",
    "\n",
    "import sys\n",
    "pd.options.display.max_rows = 400\n",
    "pd.options.display.max_columns = 400\n",
    "\n",
    "# For getting the last folder containing hospital name\n",
    "def get_all_folders(path):\n",
    "    return [x for x in os.listdir(path) if os.path.isfile(x) == False]\n",
    "\n",
    "# Get parameters from files stored during step 1, don't get from args (one argument, directory)\n",
    "datadir = path.join(f'{getcwd()}', 'data')\n",
    "outdir = path.join(f'{getcwd()}', 'output')\n",
    "lastdir = f'/Users/warsameyusuf/Documents/Masters/Research project/Git files BLL/chime_sims/output/2020_05_06_19_34_35_OTT'\n",
    "outdir = path.join(f'{lastdir}', 'output')\n",
    "figdir = path.join(f'{lastdir}', 'figures')\n",
    "\n",
    "\n",
    "hospital = 'OTT'\n",
    "\n",
    "census_ts = pd.read_csv(path.join(f\"{datadir}\",f\"{hospital}_ts.csv\"))\n",
    "first_day = census_ts['date'].values[0]\n",
    "params = pd.read_csv(path.join(f\"{datadir}\",f\"{hospital}_parameters.csv\"))\n",
    "# impute vent with the proportion of hosp.  this is a crude hack\n",
    "census_ts.loc[census_ts.vent.isna(), 'vent'] = census_ts.hosp.loc[census_ts.vent.isna()]*np.mean(census_ts.vent/census_ts.hosp)\n",
    "\n",
    "# This needs to be configuable based on the time period specificed \n",
    "nobs = census_ts.shape[0]\n",
    "\n",
    "# define capacity\n",
    "vent_capacity = float(params.base.loc[params.param == 'vent_capacity'])\n",
    "hosp_capacity = float(params.base.loc[params.param == 'hosp_capacity'])\n",
    "\n",
    "# Chains\n",
    "df = pd.read_json(path.join('output',f\"{outdir}\",\"chains.json.bz2\"), lines = True)\n",
    "\n",
    "# remove burn-in\n",
    "# Make 1000 configurable\n",
    "df = df.loc[(df.iter>1000)] #& (~df.chain.isin([1, 12]))]"
   ]
  },
  {
   "cell_type": "code",
   "execution_count": 3,
   "metadata": {},
   "outputs": [],
   "source": [
    "def create_predictive_csv():\n",
    "    current_df = reopen_loop(df = df, reopen_on_days = [0], today = 45, reopen_speed= 0.03, sd_percent_change=1)\n",
    "    reduction_20 = reopen_loop(df = df, reopen_on_days = [0], today = 45, reopen_speed= 0.03, sd_percent_change=0.8)\n",
    "    final_df = export_csv(200, [current_df,reduction_20], suffix = [\"current\",\"reduction_20\"])\n",
    "    return final_df\n",
    "\n",
    "\n",
    "def export_csv (howfar=200, df_ar = [df], suffix = [\"\"]):\n",
    "    dataframe_dictionary = {}\n",
    "    final_dataframe = pd.DataFrame()\n",
    "    index = 0\n",
    "    for df in df_ar: \n",
    "        arrs = np.stack([df.arr.iloc[i] for i in range(df.shape[0])])\n",
    "        arrq = np.quantile(arrs, axis = 0, q = [.05, .25, .5, .75, .95])\n",
    "\n",
    "        dates = pd.date_range(f'{first_day}',\n",
    "            periods=howfar, freq='d')\n",
    "        hosp_census = create_csv_export_dataframe(arrq, 3, \"hosp_census\", dates, howfar, suffix[index])\n",
    "        if final_dataframe.size == 0:\n",
    "            final_dataframe = hosp_census\n",
    "        else:\n",
    "            final_dataframe = pd.merge(final_dataframe, hosp_census, on = \"date\")\n",
    "        index = index+1\n",
    "    return final_dataframe\n",
    "\n",
    "def create_csv_export_dataframe (arrq, column, name, dates, howfar, suffix):\n",
    "    dataframe_dictionary = {'date': dates, f'{name}_5_{suffix}':arrq[0,:howfar,column], f'{name}_95_{suffix}':arrq[4,:howfar,column], f'{name}_median_{suffix}':arrq[2,:howfar, column]}\n",
    "    dataframe = pd.DataFrame(data=dataframe_dictionary)\n",
    "    return dataframe\n",
    "\n",
    "def reopen_loop(df = df, reopen_on_days = [0], today = 45, reopen_speed= 0.03, sd_percent_change=1):\n",
    "    reopen_sims = {}\n",
    "    for reopen_on in reopen_on_days:\n",
    "        df['reopen_day'] = today + reopen_on # begin reopening in reopen_on days from now\n",
    "        df['reopen_speed'] = reopen_speed\n",
    "        df.index = range(df.shape[0])\n",
    "        ddf = df.T.reset_index()\n",
    "\n",
    "        sims = []\n",
    "        idx_samples = np.random.choice([i for i in df.index], 4000)\n",
    "        for param_col in idx_samples:\n",
    "            p_df = ddf[['index', param_col]].rename(columns={'index': 'param', param_col: 'val'})\n",
    "            sim = SIR_from_params(p_df, sd_percent_change=sd_percent_change)\n",
    "            sims.append(sim)\n",
    "        df_reopen = pd.DataFrame(sims)\n",
    "        reopen_sims[reopen_on] = df_reopen\n",
    "    return df_reopen"
   ]
  },
  {
   "cell_type": "code",
   "execution_count": 4,
   "metadata": {},
   "outputs": [],
   "source": [
    "# Define predictive plot function \n",
    "\n",
    "def plt_predictive_panel(arrq, column, label, dates, howfar,  axx):\n",
    "    axx.plot_date(dates, arrq[2,:howfar, column], '-', label = 'posterior median')\n",
    "    axx.set_ylabel(label, fontsize=12, fontweight='bold')\n",
    "    axx.fill_between(x = dates,\n",
    "                       y1 = arrq[0,:howfar,column],\n",
    "                       y2 = arrq[4,:howfar,column], \n",
    "                       label = '90% Credible Region',\n",
    "                       alpha = .1,\n",
    "                       lw = 2,\n",
    "                       edgecolor = \"k\")\n",
    "    axx.fill_between(x = dates,\n",
    "                       y1 = arrq[1,:howfar,column],\n",
    "                       y2 = arrq[3,:howfar,column], \n",
    "                       label = '50% Credible Region',\n",
    "                       alpha = .1,\n",
    "                       lw = 2,\n",
    "                       edgecolor = \"k\")\n",
    "    axx.legend()\n",
    "    axx.grid(True)\n",
    "\n",
    "def plt_predictive(howfar=200, df = df):\n",
    "    # predictive plot\n",
    "    arrs = np.stack([df.arr.iloc[i] for i in range(df.shape[0])])\n",
    "    arrq = np.quantile(arrs, axis = 0, q = [.05, .25, .5, .75, .95])\n",
    "\n",
    "    dates = pd.date_range(f'{first_day}',\n",
    "        periods=howfar, freq='d')\n",
    "    fig, ax = plt.subplots(figsize=(16, 10), ncols=2, nrows=2, sharex=True)\n",
    "    \n",
    "    # hosp\n",
    "    axx = ax[0,0]\n",
    "    plt_predictive_panel(arrq, 3, \"COVID-19 Hospital census\", dates, howfar,  axx)\n",
    "    axx.axhline(y=hosp_capacity, color='k', ls='--', label = \"hospital capacity\")\n",
    "    axx.plot_date(dates[:census_ts.hosp.shape[0]], census_ts.hosp, '-',\n",
    "               color = \"red\",\n",
    "               label = \"observed\")\n",
    "\n",
    "    axx = ax[0,1]\n",
    "    plt_predictive_panel(arrq, 5, \"COVID-19 Vent census\", dates, howfar,  axx)\n",
    "    axx.axhline(y=vent_capacity, color='k', ls='--', label = \"vent capacity\")\n",
    "    axx.plot_date(dates[:census_ts.vent.shape[0]], census_ts.vent, '-',\n",
    "               color = \"red\",\n",
    "               label = \"observed\")\n",
    "    axx.legend()\n",
    "    axx.grid(True)\n",
    "\n",
    "    # Admits\n",
    "    axx = ax[1,0]\n",
    "    plt_predictive_panel(arrq, 0, \"COVID-19 Hospital Admits\", dates, howfar,  axx)\n",
    "\n",
    "    axx = ax[1,1]\n",
    "    plt_predictive_panel(arrq, 2, \"COVID-19 Vent Admits\", dates, howfar,  axx)\n",
    "    fig.autofmt_xdate()\n",
    "    fig.tight_layout()"
   ]
  },
  {
   "cell_type": "markdown",
   "metadata": {},
   "source": [
    "## Using the reopen function to generate projections for current physical distancing, 50% distancing, and 70% distancing\n",
    "\n",
    "By setting reopen_on_days to 0, you can generate projections from today onwards. The **sd_max** parameter caps the amount of physical distancing that can be done moving forward. The parameter is based on current physical distancing, meaning **sd_max = 1** is equivalent to projecting current physical distancing. To get physical distancing for 50% and 70%, you divide 50 or 70 by the current physical distancing value. For example, if current physical distancing is 60%; to project 50% physical distancing, **sd_max** = 50/60 = 0.833. For 70% distancing, **sd_max** = 70/60 = 1.17."
   ]
  },
  {
   "cell_type": "code",
   "execution_count": 5,
   "metadata": {},
   "outputs": [],
   "source": [
    "combined_data = create_predictive_csv()"
   ]
  },
  {
   "cell_type": "code",
   "execution_count": 6,
   "metadata": {},
   "outputs": [],
   "source": [
    "combined_data.to_csv('combined_data.csv')"
   ]
  },
  {
   "cell_type": "code",
   "execution_count": null,
   "metadata": {},
   "outputs": [],
   "source": []
  }
 ],
 "metadata": {
  "language_info": {
   "codemirror_mode": {
    "name": "ipython",
    "version": 3
   },
   "file_extension": ".py",
   "mimetype": "text/x-python",
   "name": "python",
   "nbconvert_exporter": "python",
   "pygments_lexer": "ipython3",
   "version": "3.7.6-final"
  },
  "orig_nbformat": 2,
  "kernelspec": {
   "name": "python3",
   "display_name": "Python 3"
  }
 },
 "nbformat": 4,
 "nbformat_minor": 2
}